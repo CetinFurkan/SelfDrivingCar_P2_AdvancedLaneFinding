{
 "cells": [
  {
   "cell_type": "code",
   "execution_count": 21,
   "metadata": {},
   "outputs": [
    {
     "data": {
      "image/png": "[encoded data removed]",
      "text/plain": [
       "<Figure size 432x288 with 1 Axes>"
      ]
     },
     "metadata": {
      "needs_background": "light"
     },
     "output_type": "display_data"
    }
   ],
   "source": [
    "#importing some useful packages\n",
    "import matplotlib.pyplot as plt\n",
    "import matplotlib.image as mpimg\n",
    "import numpy as np\n",
    "import cv2\n",
    "import os\n",
    "import pickle\n",
    "\n",
    "# Read in an image\n",
    "img = cv2.imread('test_images_output/output_lanes_test5.jpg')\n",
    "\n",
    "# point list of the polygonal area on image where we want to warp \n",
    "region_coordinates = np.float32([[(0,240), (480,0), (600,0), (1100,240)]])\n",
    "\n",
    "# point list of the polygonal area on image where we want to warp \n",
    "fullframe_coordinates = np.float32([[(0,600), (0,0), (600,0), (600,600)]])\n",
    "\n",
    "# Given src and dst points, calculate the perspective transform matrix\n",
    "M = cv2.getPerspectiveTransform(region_coordinates, fullframe_coordinates)\n",
    "        \n",
    "# Warp the image using OpenCV warpPerspective()\n",
    "warped = cv2.warpPerspective(img, M, (600,600))\n",
    "\n",
    "\n",
    "plt.imshow(warped)\n",
    "plt.show()"
   ]
  },
  {
   "cell_type": "code",
   "execution_count": null,
   "metadata": {},
   "outputs": [],
   "source": []
  }
 ],
 "metadata": {
  "kernelspec": {
   "display_name": "Python 3",
   "language": "python",
   "name": "python3"
  },
  "language_info": {
   "codemirror_mode": {
    "name": "ipython",
    "version": 3
   },
   "file_extension": ".py",
   "mimetype": "text/x-python",
   "name": "python",
   "nbconvert_exporter": "python",
   "pygments_lexer": "ipython3",
   "version": "3.8.5"
  }
 },
 "nbformat": 4,
 "nbformat_minor": 4
}
